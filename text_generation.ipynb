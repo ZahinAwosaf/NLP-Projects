{
  "nbformat": 4,
  "nbformat_minor": 0,
  "metadata": {
    "colab": {
      "name": "text_generation.ipynb",
      "provenance": [],
      "collapsed_sections": [],
      "authorship_tag": "ABX9TyNtY/sNrNkoKhZnM9YAH6nj",
      "include_colab_link": true
    },
    "kernelspec": {
      "name": "python3",
      "display_name": "Python 3"
    },
    "language_info": {
      "name": "python"
    },
    "accelerator": "GPU"
  },
  "cells": [
    {
      "cell_type": "markdown",
      "metadata": {
        "id": "view-in-github",
        "colab_type": "text"
      },
      "source": [
        "<a href=\"https://colab.research.google.com/github/ZahinAwosaf/NLP-Projects/blob/main/text_generation.ipynb\" target=\"_parent\"><img src=\"https://colab.research.google.com/assets/colab-badge.svg\" alt=\"Open In Colab\"/></a>"
      ]
    },
    {
      "cell_type": "code",
      "execution_count": 1,
      "metadata": {
        "id": "NL2CQWhCUs9G"
      },
      "outputs": [],
      "source": [
        "import os\n",
        "import random\n",
        "import time\n",
        "import datetime\n",
        "\n",
        "import numpy as np\n",
        "import tensorflow as tf\n",
        "\n",
        "from tensorflow import keras\n",
        "from keras import layers, utils, Sequential\n",
        "from keras.layers import *"
      ]
    },
    {
      "cell_type": "code",
      "source": [
        "np.seterr(divide = 'ignore') "
      ],
      "metadata": {
        "colab": {
          "base_uri": "https://localhost:8080/"
        },
        "id": "XflaDwqF2FC7",
        "outputId": "7ff7e7fc-8930-4c21-f7b6-3800c23f54a9"
      },
      "execution_count": 2,
      "outputs": [
        {
          "output_type": "execute_result",
          "data": {
            "text/plain": [
              "{'divide': 'warn', 'invalid': 'warn', 'over': 'warn', 'under': 'ignore'}"
            ]
          },
          "metadata": {},
          "execution_count": 2
        }
      ]
    },
    {
      "cell_type": "code",
      "source": [
        "path = tf.keras.utils.get_file(\"Alice.txt\", \"https://raw.githubusercontent.com/ZahinAwosaf/NLP-Projects/main/data/Alice.txt\")"
      ],
      "metadata": {
        "id": "H2BgRVsx2F9R",
        "colab": {
          "base_uri": "https://localhost:8080/"
        },
        "outputId": "6ad59723-2eec-48e7-c118-193b3de2a150"
      },
      "execution_count": 3,
      "outputs": [
        {
          "output_type": "stream",
          "name": "stdout",
          "text": [
            "Downloading data from https://raw.githubusercontent.com/ZahinAwosaf/NLP-Projects/main/data/Alice.txt\n",
            "155648/147673 [===============================] - 0s 0us/step\n",
            "163840/147673 [=================================] - 0s 0us/step\n"
          ]
        }
      ]
    },
    {
      "cell_type": "code",
      "source": [
        "text = open(path, \"rb\").read().decode(encoding = \"utf-8\")"
      ],
      "metadata": {
        "id": "ihZeuVNN2Hb5"
      },
      "execution_count": 4,
      "outputs": []
    },
    {
      "cell_type": "code",
      "source": [
        "text_length = len(text)\n",
        "print(\"Length Text:\", text_length)"
      ],
      "metadata": {
        "colab": {
          "base_uri": "https://localhost:8080/"
        },
        "id": "EPXRebOq2Tb6",
        "outputId": "01414bf9-2621-4624-9e7a-19c05b68f5a6"
      },
      "execution_count": 5,
      "outputs": [
        {
          "output_type": "stream",
          "name": "stdout",
          "text": [
            "Length Text: 147673\n"
          ]
        }
      ]
    },
    {
      "cell_type": "code",
      "source": [
        "print(text[:200])"
      ],
      "metadata": {
        "colab": {
          "base_uri": "https://localhost:8080/"
        },
        "id": "Y05ZtDjO2tqx",
        "outputId": "37f09862-2577-4750-d345-481a0bcad1f3"
      },
      "execution_count": 7,
      "outputs": [
        {
          "output_type": "stream",
          "name": "stdout",
          "text": [
            "CHAPTER I. Down the Rabbit-Hole\r\n",
            "\r\n",
            "Alice was beginning to get very tired of sitting by her sister on the\r\n",
            "bank, and of having nothing to do: once or twice she had peeped into the\r\n",
            "book her sister was \n"
          ]
        }
      ]
    },
    {
      "cell_type": "code",
      "source": [
        "chars = sorted(list(set(text)))\n",
        "vocab_size = len(chars)\n",
        "print(\"Total unique characters:\", vocab_size)"
      ],
      "metadata": {
        "colab": {
          "base_uri": "https://localhost:8080/"
        },
        "id": "oTc3v7Ae213o",
        "outputId": "7d66ce0e-6366-43e9-c795-8f3981bec2df"
      },
      "execution_count": 8,
      "outputs": [
        {
          "output_type": "stream",
          "name": "stdout",
          "text": [
            "Total unique characters: 70\n"
          ]
        }
      ]
    },
    {
      "cell_type": "code",
      "source": [
        "chars_to_ids = {u:i for i, u in enumerate(chars)}\n",
        "ids_to_chars = {i:u for i, u in enumerate(chars)}"
      ],
      "metadata": {
        "id": "UDDbXW3v3IEQ"
      },
      "execution_count": 9,
      "outputs": []
    },
    {
      "cell_type": "code",
      "source": [
        "num_rep = np.array([chars_to_ids[char] for char in text])\n",
        "print(text[:100])\n",
        "print(num_rep[:100])"
      ],
      "metadata": {
        "colab": {
          "base_uri": "https://localhost:8080/"
        },
        "id": "JtvBG1nx3N_B",
        "outputId": "010883df-e04a-4b36-f608-76a6795859a7"
      },
      "execution_count": 10,
      "outputs": [
        {
          "output_type": "stream",
          "name": "stdout",
          "text": [
            "CHAPTER I. Down the Rabbit-Hole\r\n",
            "\r\n",
            "Alice was beginning to get very tired of sitting by her sister on\n",
            "[17 22 15 30 34 19 32  2 23 11  2 18 58 66 57  2 63 51 48  2 32 44 45 45\n",
            " 52 63 10 22 58 55 48  1  0  1  0 15 55 52 46 48  2 66 44 62  2 45 48 50\n",
            " 52 57 57 52 57 50  2 63 58  2 50 48 63  2 65 48 61 68  2 63 52 61 48 47\n",
            "  2 58 49  2 62 52 63 63 52 57 50  2 45 68  2 51 48 61  2 62 52 62 63 48\n",
            " 61  2 58 57]\n"
          ]
        }
      ]
    },
    {
      "cell_type": "code",
      "source": [
        "num_rep.shape"
      ],
      "metadata": {
        "colab": {
          "base_uri": "https://localhost:8080/"
        },
        "id": "VlRMGN0_5UsQ",
        "outputId": "a2f2f7f0-74c9-4f40-cbc4-006f63fc8534"
      },
      "execution_count": 11,
      "outputs": [
        {
          "output_type": "execute_result",
          "data": {
            "text/plain": [
              "(147673,)"
            ]
          },
          "metadata": {},
          "execution_count": 11
        }
      ]
    },
    {
      "cell_type": "code",
      "source": [
        "max_length = 200\n",
        "batch_size = 64\n",
        "buffer = 10000\n",
        "embedding_dim = 256\n",
        "units = 1024"
      ],
      "metadata": {
        "id": "-D3E4FIF5Zox"
      },
      "execution_count": 12,
      "outputs": []
    },
    {
      "cell_type": "code",
      "source": [
        "train_ds = tf.data.Dataset.from_tensor_slices(num_rep)\n",
        "train_ds = train_ds.batch(max_length + 1, drop_remainder = True)"
      ],
      "metadata": {
        "id": "nYhpEntL5xeR"
      },
      "execution_count": 13,
      "outputs": []
    },
    {
      "cell_type": "code",
      "source": [
        "def split_input_target(text):\n",
        "    input = text[:-1]\n",
        "    target = text[1:]\n",
        "\n",
        "    return input, target"
      ],
      "metadata": {
        "id": "r4uSVpJS52dC"
      },
      "execution_count": 14,
      "outputs": []
    },
    {
      "cell_type": "code",
      "source": [
        "train_ds = train_ds.map(split_input_target).shuffle(buffer).batch(batch_size,\n",
        "                                                                  drop_remainder = True)\n",
        "print(train_ds)"
      ],
      "metadata": {
        "colab": {
          "base_uri": "https://localhost:8080/"
        },
        "id": "hvafmp9zIDV9",
        "outputId": "ef5a0770-a6c1-4ccc-e727-539f3104d66c"
      },
      "execution_count": 15,
      "outputs": [
        {
          "output_type": "stream",
          "name": "stdout",
          "text": [
            "<BatchDataset shapes: ((64, 200), (64, 200)), types: (tf.int64, tf.int64)>\n"
          ]
        }
      ]
    },
    {
      "cell_type": "code",
      "source": [
        "def build_model(vocab_size, embedding_dim,\n",
        "                units, batch_size):\n",
        "    model = Sequential([\n",
        "    Embedding(vocab_size, embedding_dim,\n",
        "              batch_input_shape = [batch_size, None]),\n",
        "    LSTM(units, return_sequences = True, stateful = True,\n",
        "         recurrent_initializer = \"glorot_uniform\"),\n",
        "    LSTM(units, return_sequences = True, stateful = True,\n",
        "         recurrent_initializer = \"glorot_uniform\"),\n",
        "    Dropout(0.2),\n",
        "    Dense(vocab_size)\n",
        "    ])\n",
        "    return model"
      ],
      "metadata": {
        "id": "zgPD8lbwcbtb"
      },
      "execution_count": 16,
      "outputs": []
    },
    {
      "cell_type": "code",
      "source": [
        "model = build_model(vocab_size, embedding_dim, units, batch_size)"
      ],
      "metadata": {
        "id": "e4pgMfyGIg6N"
      },
      "execution_count": 17,
      "outputs": []
    },
    {
      "cell_type": "code",
      "source": [
        "model.summary()"
      ],
      "metadata": {
        "colab": {
          "base_uri": "https://localhost:8080/"
        },
        "id": "5WL7mzY1JSH1",
        "outputId": "e14126f7-8440-44dd-ed4a-cd63e838858d"
      },
      "execution_count": 18,
      "outputs": [
        {
          "output_type": "stream",
          "name": "stdout",
          "text": [
            "Model: \"sequential\"\n",
            "_________________________________________________________________\n",
            " Layer (type)                Output Shape              Param #   \n",
            "=================================================================\n",
            " embedding (Embedding)       (64, None, 256)           17920     \n",
            "                                                                 \n",
            " lstm (LSTM)                 (64, None, 1024)          5246976   \n",
            "                                                                 \n",
            " lstm_1 (LSTM)               (64, None, 1024)          8392704   \n",
            "                                                                 \n",
            " dropout (Dropout)           (64, None, 1024)          0         \n",
            "                                                                 \n",
            " dense (Dense)               (64, None, 70)            71750     \n",
            "                                                                 \n",
            "=================================================================\n",
            "Total params: 13,729,350\n",
            "Trainable params: 13,729,350\n",
            "Non-trainable params: 0\n",
            "_________________________________________________________________\n"
          ]
        }
      ]
    },
    {
      "cell_type": "code",
      "source": [
        "loss = keras.losses.SparseCategoricalCrossentropy(from_logits = True)\n",
        "optimizer = keras.optimizers.Adam()\n",
        "\n",
        "model.compile(loss = loss,\n",
        "              optimizer = optimizer)"
      ],
      "metadata": {
        "id": "bcUQKw3xJYyc"
      },
      "execution_count": 19,
      "outputs": []
    },
    {
      "cell_type": "code",
      "source": [
        "checkpoint_dir = './checkpoints'+ datetime.datetime.now().strftime(\"_%Y.%m.%d-%H:%M:%S\")\n",
        "checkpoint_prefix = os.path.join(checkpoint_dir, \"checkpoint_{epoch}\")\n",
        "\n",
        "checkpoint_callback = tf.keras.callbacks.ModelCheckpoint(filepath = checkpoint_prefix,\n",
        "                                                         save_weights_only = True)"
      ],
      "metadata": {
        "id": "z1FnvhZGQ8FF"
      },
      "execution_count": 20,
      "outputs": []
    },
    {
      "cell_type": "code",
      "source": [
        "model.fit(train_ds, epochs = 100,\n",
        "          callbacks = [checkpoint_callback])"
      ],
      "metadata": {
        "colab": {
          "base_uri": "https://localhost:8080/"
        },
        "id": "vXG0Ao31Jwxd",
        "outputId": "879417fb-ba8d-44ba-a756-2faba8a250f4"
      },
      "execution_count": 21,
      "outputs": [
        {
          "output_type": "stream",
          "name": "stdout",
          "text": [
            "Epoch 1/100\n",
            "11/11 [==============================] - 18s 990ms/step - loss: 3.6901\n",
            "Epoch 2/100\n",
            "11/11 [==============================] - 11s 985ms/step - loss: 3.2264\n",
            "Epoch 3/100\n",
            "11/11 [==============================] - 11s 983ms/step - loss: 3.1905\n",
            "Epoch 4/100\n",
            "11/11 [==============================] - 11s 988ms/step - loss: 3.1518\n",
            "Epoch 5/100\n",
            "11/11 [==============================] - 11s 991ms/step - loss: 3.0563\n",
            "Epoch 6/100\n",
            "11/11 [==============================] - 11s 988ms/step - loss: 2.9459\n",
            "Epoch 7/100\n",
            "11/11 [==============================] - 11s 993ms/step - loss: 2.8035\n",
            "Epoch 8/100\n",
            "11/11 [==============================] - 11s 994ms/step - loss: 2.6863\n",
            "Epoch 9/100\n",
            "11/11 [==============================] - 11s 991ms/step - loss: 2.5461\n",
            "Epoch 10/100\n",
            "11/11 [==============================] - 11s 989ms/step - loss: 2.4108\n",
            "Epoch 11/100\n",
            "11/11 [==============================] - 11s 1000ms/step - loss: 2.3098\n",
            "Epoch 12/100\n",
            "11/11 [==============================] - 11s 996ms/step - loss: 2.2191\n",
            "Epoch 13/100\n",
            "11/11 [==============================] - 11s 996ms/step - loss: 2.1322\n",
            "Epoch 14/100\n",
            "11/11 [==============================] - 11s 997ms/step - loss: 2.0562\n",
            "Epoch 15/100\n",
            "11/11 [==============================] - 11s 1s/step - loss: 1.9856\n",
            "Epoch 16/100\n",
            "11/11 [==============================] - 11s 998ms/step - loss: 1.9235\n",
            "Epoch 17/100\n",
            "11/11 [==============================] - 11s 992ms/step - loss: 1.8584\n",
            "Epoch 18/100\n",
            "11/11 [==============================] - 11s 994ms/step - loss: 1.7997\n",
            "Epoch 19/100\n",
            "11/11 [==============================] - 11s 994ms/step - loss: 1.7419\n",
            "Epoch 20/100\n",
            "11/11 [==============================] - 11s 994ms/step - loss: 1.6861\n",
            "Epoch 21/100\n",
            "11/11 [==============================] - 11s 991ms/step - loss: 1.6380\n",
            "Epoch 22/100\n",
            "11/11 [==============================] - 11s 996ms/step - loss: 1.5865\n",
            "Epoch 23/100\n",
            "11/11 [==============================] - 11s 996ms/step - loss: 1.5420\n",
            "Epoch 24/100\n",
            "11/11 [==============================] - 11s 994ms/step - loss: 1.4917\n",
            "Epoch 25/100\n",
            "11/11 [==============================] - 11s 995ms/step - loss: 1.4405\n",
            "Epoch 26/100\n",
            "11/11 [==============================] - 11s 1s/step - loss: 1.3942\n",
            "Epoch 27/100\n",
            "11/11 [==============================] - 11s 1s/step - loss: 1.3486\n",
            "Epoch 28/100\n",
            "11/11 [==============================] - 11s 997ms/step - loss: 1.3001\n",
            "Epoch 29/100\n",
            "11/11 [==============================] - 11s 1s/step - loss: 1.2558\n",
            "Epoch 30/100\n",
            "11/11 [==============================] - 11s 995ms/step - loss: 1.2089\n",
            "Epoch 31/100\n",
            "11/11 [==============================] - 11s 999ms/step - loss: 1.1709\n",
            "Epoch 32/100\n",
            "11/11 [==============================] - 11s 997ms/step - loss: 1.1224\n",
            "Epoch 33/100\n",
            "11/11 [==============================] - 11s 995ms/step - loss: 1.0713\n",
            "Epoch 34/100\n",
            "11/11 [==============================] - 11s 999ms/step - loss: 1.0240\n",
            "Epoch 35/100\n",
            "11/11 [==============================] - 11s 1000ms/step - loss: 0.9698\n",
            "Epoch 36/100\n",
            "11/11 [==============================] - 11s 1s/step - loss: 0.9195\n",
            "Epoch 37/100\n",
            "11/11 [==============================] - 11s 1000ms/step - loss: 0.8702\n",
            "Epoch 38/100\n",
            "11/11 [==============================] - 11s 1s/step - loss: 0.8145\n",
            "Epoch 39/100\n",
            "11/11 [==============================] - 11s 994ms/step - loss: 0.7571\n",
            "Epoch 40/100\n",
            "11/11 [==============================] - 11s 1s/step - loss: 0.7064\n",
            "Epoch 41/100\n",
            "11/11 [==============================] - 11s 997ms/step - loss: 0.6569\n",
            "Epoch 42/100\n",
            "11/11 [==============================] - 11s 1s/step - loss: 0.6076\n",
            "Epoch 43/100\n",
            "11/11 [==============================] - 11s 1s/step - loss: 0.5549\n",
            "Epoch 44/100\n",
            "11/11 [==============================] - 11s 995ms/step - loss: 0.5061\n",
            "Epoch 45/100\n",
            "11/11 [==============================] - 11s 1s/step - loss: 0.4618\n",
            "Epoch 46/100\n",
            "11/11 [==============================] - 11s 995ms/step - loss: 0.4247\n",
            "Epoch 47/100\n",
            "11/11 [==============================] - 11s 1s/step - loss: 0.3892\n",
            "Epoch 48/100\n",
            "11/11 [==============================] - 11s 999ms/step - loss: 0.3574\n",
            "Epoch 49/100\n",
            "11/11 [==============================] - 11s 995ms/step - loss: 0.3264\n",
            "Epoch 50/100\n",
            "11/11 [==============================] - 11s 1s/step - loss: 0.2992\n",
            "Epoch 51/100\n",
            "11/11 [==============================] - 11s 1s/step - loss: 0.2787\n",
            "Epoch 52/100\n",
            "11/11 [==============================] - 11s 998ms/step - loss: 0.2578\n",
            "Epoch 53/100\n",
            "11/11 [==============================] - 11s 997ms/step - loss: 0.2464\n",
            "Epoch 54/100\n",
            "11/11 [==============================] - 11s 994ms/step - loss: 0.2282\n",
            "Epoch 55/100\n",
            "11/11 [==============================] - 11s 1s/step - loss: 0.2172\n",
            "Epoch 56/100\n",
            "11/11 [==============================] - 11s 1s/step - loss: 0.2048\n",
            "Epoch 57/100\n",
            "11/11 [==============================] - 11s 1s/step - loss: 0.1997\n",
            "Epoch 58/100\n",
            "11/11 [==============================] - 11s 998ms/step - loss: 0.1889\n",
            "Epoch 59/100\n",
            "11/11 [==============================] - 11s 995ms/step - loss: 0.1846\n",
            "Epoch 60/100\n",
            "11/11 [==============================] - 11s 1s/step - loss: 0.1775\n",
            "Epoch 61/100\n",
            "11/11 [==============================] - 11s 998ms/step - loss: 0.1731\n",
            "Epoch 62/100\n",
            "11/11 [==============================] - 11s 1s/step - loss: 0.1672\n",
            "Epoch 63/100\n",
            "11/11 [==============================] - 11s 995ms/step - loss: 0.1600\n",
            "Epoch 64/100\n",
            "11/11 [==============================] - 11s 998ms/step - loss: 0.1560\n",
            "Epoch 65/100\n",
            "11/11 [==============================] - 11s 1s/step - loss: 0.1535\n",
            "Epoch 66/100\n",
            "11/11 [==============================] - 11s 1s/step - loss: 0.1481\n",
            "Epoch 67/100\n",
            "11/11 [==============================] - 11s 996ms/step - loss: 0.1457\n",
            "Epoch 68/100\n",
            "11/11 [==============================] - 11s 1s/step - loss: 0.1412\n",
            "Epoch 69/100\n",
            "11/11 [==============================] - 11s 1s/step - loss: 0.1403\n",
            "Epoch 70/100\n",
            "11/11 [==============================] - 11s 1s/step - loss: 0.1375\n",
            "Epoch 71/100\n",
            "11/11 [==============================] - 11s 1s/step - loss: 0.1366\n",
            "Epoch 72/100\n",
            "11/11 [==============================] - 11s 995ms/step - loss: 0.1343\n",
            "Epoch 73/100\n",
            "11/11 [==============================] - 11s 1s/step - loss: 0.1310\n",
            "Epoch 74/100\n",
            "11/11 [==============================] - 11s 997ms/step - loss: 0.1294\n",
            "Epoch 75/100\n",
            "11/11 [==============================] - 11s 1s/step - loss: 0.1288\n",
            "Epoch 76/100\n",
            "11/11 [==============================] - 11s 993ms/step - loss: 0.1247\n",
            "Epoch 77/100\n",
            "11/11 [==============================] - 11s 995ms/step - loss: 0.1198\n",
            "Epoch 78/100\n",
            "11/11 [==============================] - 11s 995ms/step - loss: 0.1183\n",
            "Epoch 79/100\n",
            "11/11 [==============================] - 11s 996ms/step - loss: 0.1183\n",
            "Epoch 80/100\n",
            "11/11 [==============================] - 11s 1s/step - loss: 0.1149\n",
            "Epoch 81/100\n",
            "11/11 [==============================] - 11s 1000ms/step - loss: 0.1149\n",
            "Epoch 82/100\n",
            "11/11 [==============================] - 11s 996ms/step - loss: 0.1135\n",
            "Epoch 83/100\n",
            "11/11 [==============================] - 11s 998ms/step - loss: 0.1117\n",
            "Epoch 84/100\n",
            "11/11 [==============================] - 11s 999ms/step - loss: 0.1103\n",
            "Epoch 85/100\n",
            "11/11 [==============================] - 11s 998ms/step - loss: 0.1090\n",
            "Epoch 86/100\n",
            "11/11 [==============================] - 11s 998ms/step - loss: 0.1080\n",
            "Epoch 87/100\n",
            "11/11 [==============================] - 11s 995ms/step - loss: 0.1065\n",
            "Epoch 88/100\n",
            "11/11 [==============================] - 11s 999ms/step - loss: 0.1050\n",
            "Epoch 89/100\n",
            "11/11 [==============================] - 11s 995ms/step - loss: 0.1038\n",
            "Epoch 90/100\n",
            "11/11 [==============================] - 11s 1s/step - loss: 0.1022\n",
            "Epoch 91/100\n",
            "11/11 [==============================] - 11s 991ms/step - loss: 0.1033\n",
            "Epoch 92/100\n",
            "11/11 [==============================] - 11s 999ms/step - loss: 0.1025\n",
            "Epoch 93/100\n",
            "11/11 [==============================] - 11s 997ms/step - loss: 0.0980\n",
            "Epoch 94/100\n",
            "11/11 [==============================] - 11s 1s/step - loss: 0.0987\n",
            "Epoch 95/100\n",
            "11/11 [==============================] - 11s 997ms/step - loss: 0.0979\n",
            "Epoch 96/100\n",
            "11/11 [==============================] - 11s 1s/step - loss: 0.0931\n",
            "Epoch 97/100\n",
            "11/11 [==============================] - 11s 1s/step - loss: 0.0932\n",
            "Epoch 98/100\n",
            "11/11 [==============================] - 11s 1s/step - loss: 0.0941\n",
            "Epoch 99/100\n",
            "11/11 [==============================] - 11s 1s/step - loss: 0.0930\n",
            "Epoch 100/100\n",
            "11/11 [==============================] - 11s 997ms/step - loss: 0.0922\n"
          ]
        },
        {
          "output_type": "execute_result",
          "data": {
            "text/plain": [
              "<keras.callbacks.History at 0x7f4dd734bed0>"
            ]
          },
          "metadata": {},
          "execution_count": 21
        }
      ]
    },
    {
      "cell_type": "code",
      "source": [
        "model = build_model(vocab_size, embedding_dim, units, batch_size = 1)\n",
        "model.load_weights(tf.train.latest_checkpoint(checkpoint_dir))\n",
        "model.build(tf.TensorShape([1, None]))\n",
        "model.summary()"
      ],
      "metadata": {
        "id": "UJBXEp0HRf1e",
        "colab": {
          "base_uri": "https://localhost:8080/"
        },
        "outputId": "7e10d864-66b8-4d6e-8931-421a458b571d"
      },
      "execution_count": 22,
      "outputs": [
        {
          "output_type": "stream",
          "name": "stdout",
          "text": [
            "Model: \"sequential_1\"\n",
            "_________________________________________________________________\n",
            " Layer (type)                Output Shape              Param #   \n",
            "=================================================================\n",
            " embedding_1 (Embedding)     (1, None, 256)            17920     \n",
            "                                                                 \n",
            " lstm_2 (LSTM)               (1, None, 1024)           5246976   \n",
            "                                                                 \n",
            " lstm_3 (LSTM)               (1, None, 1024)           8392704   \n",
            "                                                                 \n",
            " dropout_1 (Dropout)         (1, None, 1024)           0         \n",
            "                                                                 \n",
            " dense_1 (Dense)             (1, None, 70)             71750     \n",
            "                                                                 \n",
            "=================================================================\n",
            "Total params: 13,729,350\n",
            "Trainable params: 13,729,350\n",
            "Non-trainable params: 0\n",
            "_________________________________________________________________\n"
          ]
        }
      ]
    },
    {
      "cell_type": "code",
      "source": [
        "def generate_text(model, start_string, diversity, generate):\n",
        "    \n",
        "    print(\"Start String:\", start_string)\n",
        "    print(\"Generated:\")\n",
        "\n",
        "    input_eval = [chars_to_ids[s] for s in start_string]\n",
        "    input_eval = tf.expand_dims(input_eval, 0)\n",
        "\n",
        "    generated = \"\"\n",
        "\n",
        "    model.reset_states()\n",
        "    for i in range(generate):\n",
        "        predictions = model(input_eval)\n",
        "        predictions = tf.squeeze(predictions, 0)\n",
        "        predictions = predictions / diversity\n",
        "        predicted_id = tf.random.categorical(predictions, \n",
        "                                             num_samples = 1)[-1, 0].numpy()\n",
        "        input_eval = tf.expand_dims([predicted_id], 0)\n",
        "        generated += ids_to_chars[predicted_id]\n",
        "\n",
        "    return (generated)"
      ],
      "metadata": {
        "id": "5pIZGP9pKFSE"
      },
      "execution_count": 23,
      "outputs": []
    },
    {
      "cell_type": "code",
      "source": [
        "print(generate_text(model, start_string = \"Either the well was very deep, or\",\n",
        "                    diversity = 1.0, generate = 200))"
      ],
      "metadata": {
        "id": "peTfmgrlKay3",
        "colab": {
          "base_uri": "https://localhost:8080/"
        },
        "outputId": "25d2f3d7-eae7-4ed2-f14a-894acf5eda0c"
      },
      "execution_count": 26,
      "outputs": [
        {
          "output_type": "stream",
          "name": "stdout",
          "text": [
            "Start String: Either the well was very deep, or\n",
            "Generated:\n",
            " she fell very sloty and saythe greet beautiful, but chow only then they bit, choked it was\n",
            "very like him took change, and she wanted a little quire (ut said, and a confus of siitsef? And it was the \n"
          ]
        }
      ]
    },
    {
      "cell_type": "code",
      "source": [
        ""
      ],
      "metadata": {
        "id": "htOIuTrhKpm-"
      },
      "execution_count": 24,
      "outputs": []
    }
  ]
}